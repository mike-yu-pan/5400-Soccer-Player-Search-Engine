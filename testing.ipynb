{
 "cells": [
  {
   "cell_type": "code",
   "execution_count": null,
   "metadata": {},
   "outputs": [],
   "source": [
    "\n",
    "transformed_articles = news_etl.transform_data(articles, search_query)"
   ]
  },
  {
   "cell_type": "code",
   "execution_count": null,
   "metadata": {},
   "outputs": [],
   "source": [
    "news_etl.load_data_to_bigquery(transformed_articles, \"soccer_player\", \"news\")"
   ]
  },
  {
   "cell_type": "code",
   "execution_count": 11,
   "metadata": {},
   "outputs": [],
   "source": [
    "from newsapi import NewsApiClient\n",
    "from google.cloud import bigquery\n",
    "import os\n",
    "\n",
    "# read API key\n",
    "with open(\"newsapi_key.txt\", \"r\") as file: \n",
    "  api_key = file.read().strip()\n",
    "file.close()\n",
    "\n",
    "# establish a newsapi client with an api key\n",
    "newsapi = NewsApiClient(api_key=api_key)\n",
    "search_query = \"L. Messi\"\n",
    "articles = newsapi.get_everything(q=search_query)\n",
    "\n",
    "os.environ[\"GOOGLE_APPLICATION_CREDENTIALS\"] = 'cloud_service_account.json'\n",
    "client = bigquery.Client()"
   ]
  },
  {
   "cell_type": "code",
   "execution_count": 12,
   "metadata": {},
   "outputs": [],
   "source": [
    "\n",
    "# Step 3: Extract data from the News API\n",
    "def extract_data(query, language=\"en\", page_size=3, max_pages=2):\n",
    "    all_articles = []\n",
    "    page = 1\n",
    "    while True:\n",
    "        articles = newsapi.get_everything(q=query, language=language, page_size=page_size, page=page)\n",
    "        if not articles['articles'] or page >= max_pages:\n",
    "            break\n",
    "        all_articles.extend(articles['articles'])\n",
    "        page += 1\n",
    "    return all_articles\n",
    "\n",
    "articles = extract_data(search_query)"
   ]
  },
  {
   "cell_type": "code",
   "execution_count": 14,
   "metadata": {},
   "outputs": [
    {
     "ename": "NewsAPIException",
     "evalue": "{'status': 'error', 'code': 'rateLimited', 'message': 'You have made too many requests recently. Developer accounts are limited to 100 requests over a 24 hour period (50 requests available every 12 hours). Please upgrade to a paid plan if you need more requests.'}",
     "output_type": "error",
     "traceback": [
      "\u001b[1;31m---------------------------------------------------------------------------\u001b[0m",
      "\u001b[1;31mNewsAPIException\u001b[0m                          Traceback (most recent call last)",
      "Cell \u001b[1;32mIn[14], line 3\u001b[0m\n\u001b[0;32m      1\u001b[0m \u001b[39mimport\u001b[39;00m \u001b[39mnews_etl\u001b[39;00m\n\u001b[0;32m      2\u001b[0m search_query \u001b[39m=\u001b[39m \u001b[39m\"\u001b[39m\u001b[39mCristiano Ronaldo\u001b[39m\u001b[39m\"\u001b[39m\n\u001b[1;32m----> 3\u001b[0m articles \u001b[39m=\u001b[39m news_etl\u001b[39m.\u001b[39;49mextract_data(search_query)\n",
      "File \u001b[1;32mc:\\Users\\123\\OneDrive\\Academic\\5400\\Project\\news_etl.py:21\u001b[0m, in \u001b[0;36mextract_data\u001b[1;34m(query, language, page_size)\u001b[0m\n\u001b[0;32m     19\u001b[0m page \u001b[39m=\u001b[39m \u001b[39m1\u001b[39m\n\u001b[0;32m     20\u001b[0m \u001b[39mwhile\u001b[39;00m \u001b[39mTrue\u001b[39;00m:\n\u001b[1;32m---> 21\u001b[0m     articles \u001b[39m=\u001b[39m newsapi\u001b[39m.\u001b[39;49mget_everything(q\u001b[39m=\u001b[39;49mquery, language\u001b[39m=\u001b[39;49mlanguage, page_size\u001b[39m=\u001b[39;49mpage_size, page\u001b[39m=\u001b[39;49mpage)\n\u001b[0;32m     22\u001b[0m     \u001b[39mif\u001b[39;00m \u001b[39mnot\u001b[39;00m articles[\u001b[39m'\u001b[39m\u001b[39marticles\u001b[39m\u001b[39m'\u001b[39m]:\n\u001b[0;32m     23\u001b[0m         \u001b[39mbreak\u001b[39;00m\n",
      "File \u001b[1;32mc:\\Python311\\Lib\\site-packages\\newsapi\\newsapi_client.py:334\u001b[0m, in \u001b[0;36mNewsApiClient.get_everything\u001b[1;34m(self, q, qintitle, sources, domains, exclude_domains, from_param, to, language, sort_by, page, page_size)\u001b[0m\n\u001b[0;32m    332\u001b[0m \u001b[39m# Check Status of Request\u001b[39;00m\n\u001b[0;32m    333\u001b[0m \u001b[39mif\u001b[39;00m r\u001b[39m.\u001b[39mstatus_code \u001b[39m!=\u001b[39m requests\u001b[39m.\u001b[39mcodes\u001b[39m.\u001b[39mok:\n\u001b[1;32m--> 334\u001b[0m     \u001b[39mraise\u001b[39;00m NewsAPIException(r\u001b[39m.\u001b[39mjson())\n\u001b[0;32m    336\u001b[0m \u001b[39mreturn\u001b[39;00m r\u001b[39m.\u001b[39mjson()\n",
      "\u001b[1;31mNewsAPIException\u001b[0m: {'status': 'error', 'code': 'rateLimited', 'message': 'You have made too many requests recently. Developer accounts are limited to 100 requests over a 24 hour period (50 requests available every 12 hours). Please upgrade to a paid plan if you need more requests.'}"
     ]
    }
   ],
   "source": [
    "import news_etl\n",
    "search_query = \"Cristiano Ronaldo\"\n",
    "articles = news_etl.extract_data(search_query)"
   ]
  },
  {
   "cell_type": "code",
   "execution_count": 30,
   "metadata": {},
   "outputs": [
    {
     "name": "stdout",
     "output_type": "stream",
     "text": [
      "[{'source': {'id': None, 'name': 'The Guardian'}, 'author': 'Rob Smyth', 'title': 'Manchester City v Bayern Munich: Champions League quarter-final, first leg – live', 'description': '<ul><li>Champions League news from the 8pm BST game</li><li>Get in touch! Send Rob an email with your thoughts</li></ul>Hello and welcome to live, minute-by-minute coverage of Manchester City v Bayern Munich in the Champions League quarter-final. This is the …', 'url': 'https://www.theguardian.com/football/live/2023/apr/11/manchester-city-bayern-munich-champions-league-quarter-final-first-leg-live', 'urlToImage': 'https://i.guim.co.uk/img/media/161b15d61056a8d53203f34803bf2c6ec0fa3045/0_93_5501_3302/master/5501.jpg?width=1200&height=630&quality=85&auto=format&fit=crop&overlay-align=bottom%2Cleft&overlay-width=100p&overlay-base64=L2ltZy9zdGF0aWMvb3ZlcmxheXMvdGctbGl2ZS5wbmc&enable=upscale&s=527fe1441f42f9871701a6eab14afcbc', 'publishedAt': '2023-04-11T17:36:45Z', 'content': 'Team news: Bernardo starts, Cancelo on the bench\\r\\nNothing too funky from Pep Guardiola, who has made one change from the team that walloped Southampton on Saturday: Bernardo Silva replaces Riyad Mahr… [+3090 chars]'}, {'source': {'id': 'google-news', 'name': 'Google News'}, 'author': None, 'title': 'Erling Haaland stats compared to Cristiano Ronaldo & Lionel Messi at the same age - 90min UK', 'description': '<ol><li>Erling Haaland stats compared to Cristiano Ronaldo & Lionel Messi at the same age\\xa0\\xa090min UK\\r\\n</li><li>Erling Haaland goals: Pep Guardiola compares goal machine Haaland to Cristiano Ronaldo, still calls his favourite Lionel Messi the complete player - …', 'url': 'https://consent.google.com/ml?continue=https://news.google.com/rss/articles/CBMiYWh0dHBzOi8vd3d3LjkwbWluLmNvbS9wb3N0cy9lcmxpbmctaGFhbGFuZC1zdGF0cy1jb21wYXJlZC1jcmlzdGlhbm8tcm9uYWxkby1saW9uZWwtbWVzc2ktc2FtZS1hZ2XSAXxodHRwczovL3d3dy45MG1pbi5jb20vcG9zdHMvZXJsaW5nLWhhYWxhbmQtc3RhdHMtY29tcGFyZWQtdG8tY3Jpc3RpYW5vLXJvbmFsZG8tbGlvbmVsLW1lc3NpLWF0LXRoZS1zYW1lLWFnZS0wMWd4anI3Y2Q5d2gvYW1w?oc%3D5%26hl%3Den-CA%26gl%3DCA%26ceid%3DCA:en&gl=FR&hl=en-CA&cm=2&pc=n&src=1', 'urlToImage': None, 'publishedAt': '2023-04-09T12:55:07Z', 'content': 'We use cookies and data to<ul><li>Deliver and maintain Google services</li><li>Track outages and protect against spam, fraud, and abuse</li><li>Measure audience engagement and site statistics to unde… [+1131 chars]'}, {'source': {'id': None, 'name': 'Webnews.it'}, 'author': 'Matteo Santicchia', 'title': 'Lenovo IdeaPad Gaming 3, portatile da gaming top ad un prezzo mai così basso', 'description': 'Lenovo IdeaPad Gaming 3, un notebook da gaming top venduto ad un prezzo very low!', 'url': 'https://www.webnews.it/lenovo-ideapad-gaming-3-portatile-da-gaming-top-ad-un-prezzo-mai-cosi-basso/', 'urlToImage': 'https://cdn.webnews.it/CoaKXxjLOjhENjvj7_cgUV1Ya9E=/160x160/https://www.webnews.it/app/uploads/2023/04/48-3-1.jpg', 'publishedAt': '2023-04-18T10:37:26Z', 'content': 'Lenovo ultimamente sta sfornando dei PC portatili dalle caratteristiche davvero interessanti che non hanno nessun timore reverenziale di fronte ai colossi americani, cinesi o di Taiwan. E che grazie … [+2596 chars]'}, {'source': {'id': None, 'name': 'Latent.space'}, 'author': 'swyx', 'title': 'Segment Anything Model and the Hard Problems of Computer Vision', 'description': \"Listen now (80 min) | Ep. 7: Meta open sourced a model, weights, and dataset 400x larger than the previous SOTA. Joseph introduces Computer Vision for developers and what's next after OCR and Image Segmentation are solved.\", 'url': 'https://www.latent.space/p/segment-anything-roboflow', 'urlToImage': 'https://substackcdn.com/image/fetch/w_1200,h_600,c_limit,f_jpg,q_auto:good,fl_progressive:steep/https%3A%2F%2Fsubstack-post-media.s3.amazonaws.com%2Fpublic%2Fimages%2F69f54996-fc68-4906-b103-755e7914a3e6_2146x1602.jpeg', 'publishedAt': '2023-04-13T17:01:24Z', 'content': '2023 is the year of Multimodal AI, and Latent Space is going multimodal too!\\r\\nOut of the five senses of the human body, Id put sight at the very top. But weirdly when it comes to AI, Computer Vision … [+102317 chars]'}, {'source': {'id': None, 'name': 'Pypi.org'}, 'author': None, 'title': 'adani added to PyPI', 'description': 'Code computing approximate DIS N3LO coefficients', 'url': 'https://pypi.org/project/adani/', 'urlToImage': 'https://pypi.org/static/images/twitter.abaf4b19.webp', 'publishedAt': '2023-03-26T13:56:15Z', 'content': 'ADANI (Approximate DIS At N3LO Implementation) is a C++ code that computes an approximation for the DIS coefficient functions at N3LO in heavy quark production, that are not fully known yet.\\r\\nDepende… [+2598 chars]'}, {'source': {'id': None, 'name': 'Daily Mail'}, 'author': 'Jake Nisse', 'title': \"Brady is part of Aces, Serena supports women's soccer: The sports stars who've invested in teams\", 'description': 'Tom Brady was announced as a minority owner of the Vegas Aces last week, jumping from an iconic career in the NFL to the WNBA. But who else has made a similar move behind the white line?', 'url': 'https://www.dailymail.co.uk/sport/othersports/article-11912565/Brady-Aces-Serena-supports-womens-soccer-sports-stars-whove-invested-teams.html', 'urlToImage': 'https://i.dailymail.co.uk/1s/2023/03/29/16/69219385-0-image-a-5_1680104720083.jpg', 'publishedAt': '2023-04-01T17:00:20Z', 'content': 'Tom Brady was announced as a minority owner of the Las Vegas Aces last week, jumping from an iconic career in the NFL to the WNBA.\\r\\nJust like the seven-time Super Bowl winner Brady, the Aces have som… [+8127 chars]'}, {'source': {'id': None, 'name': 'ESPN'}, 'author': 'Jeff Carlisle', 'title': \"How Miami becomes MLS's destination club remains uncertain\", 'description': \"There's no arguing with Inter Miami's ambition as they continue to pursue Leo Messi, but they're no closer to becoming MLS's preeminent glamor club.\", 'url': 'https://www.espn.com/soccer/inter-miami-cf/story/4912053/how-miami-becomes-mls-destination-club-remains-uncertain', 'urlToImage': 'https://a2.espncdn.com/combiner/i?img=%2Fphoto%2F2023%2F0329%2Fr1151648_1296x729_16%2D9.jpg', 'publishedAt': '2023-03-30T13:20:03Z', 'content': \"Inter Miami have grand plans, but in their fourth year of existence, they've yet to realize them.\\xa0Ira L. Black - Corbis/Getty Images\\r\\nFORT LAUDERDALE, Fla. -- As goalkeeper Drake Callender stepped up… [+9113 chars]\"}, {'source': {'id': None, 'name': 'Daily Mail'}, 'author': 'Chris Sutton', 'title': \"CHRIS SUTTON: Martin O'Neill reveals he would have been 'delighted' to have taken the Leicester job\", 'description': \"INTERVIEW BY CHRIS SUTTON: 'As Groucho Marx once said, I've had a great afternoon, but this wasn't it.' With that zinger, three hours in the company of Martin O'Neill are over.\", 'url': 'https://www.dailymail.co.uk/sport/football/article-12000609/CHRIS-SUTTON-Martin-ONeill-reveals-delighted-taken-Leicester-job.html', 'urlToImage': 'https://i.dailymail.co.uk/1s/2023/04/21/21/70107033-0-image-a-19_1682108324338.jpg', 'publishedAt': '2023-04-21T21:31:18Z', 'content': \"'As Groucho Marx once said, I've had a great afternoon, but this wasn't it.' With that zinger, three hours in the company of Martin O'Neill are over.\\r\\nHe's talked Leicester City and replacing Brendan… [+11438 chars]\"}, {'source': {'id': None, 'name': 'Daily Mail'}, 'author': 'Rob Draper', 'title': 'ROB DRAPER: Lionel Messi is bearing the brunt of discontent for a decade of under achievement at PSG', 'description': \"ROB DRAPER'S EURO COLUMN: This being Holy Week it is perhaps appropriate for messianic figures, recently lauded to the heavens, to be jeered and abused. Lionel Messi got his dates all wrong.\", 'url': 'https://www.dailymail.co.uk/sport/football/article-11941863/ROB-DRAPER-Lionel-Messi-bearing-brunt-discontent-decade-achievement-PSG.html', 'urlToImage': 'https://i.dailymail.co.uk/1s/2023/04/05/14/69510309-0-image-a-106_1680702113263.jpg', 'publishedAt': '2023-04-05T15:05:25Z', 'content': 'This being Holy Week it is perhaps appropriate for messianic figures, recently lauded to the heavens, to be jeered and abused. Lionel Messi got his dates all wrong however.\\xa0\\r\\nPalm Sunday is meant to … [+9638 chars]'}]\n"
     ]
    }
   ],
   "source": [
    "import pandas as pd\n",
    "print(articles)"
   ]
  },
  {
   "cell_type": "code",
   "execution_count": 22,
   "metadata": {},
   "outputs": [],
   "source": [
    "\n",
    "# Step 4: Transform the data into a suitable format\n",
    "def transform_data(articles):\n",
    "    transformed_articles = []\n",
    "    for article in articles:\n",
    "        transformed_articles.append(\n",
    "            {\n",
    "                \"source_id\": article[\"source\"][\"id\"],\n",
    "                \"source_name\": article[\"source\"][\"name\"],\n",
    "                \"author\": article[\"author\"],\n",
    "                \"title\": article[\"title\"],\n",
    "                \"description\": article[\"description\"],\n",
    "                \"url\": article[\"url\"],\n",
    "                \"url_to_image\": article[\"urlToImage\"],\n",
    "                \"published_at\": article[\"publishedAt\"],\n",
    "                \"content\": article[\"content\"],\n",
    "            }\n",
    "        )\n",
    "    return transformed_articles\n",
    "\n",
    "transformed_articles = transform_data(articles)"
   ]
  },
  {
   "cell_type": "code",
   "execution_count": 23,
   "metadata": {},
   "outputs": [],
   "source": [
    "def load_data_to_bigquery(transformed_articles, dataset_id, table_id):\n",
    "\n",
    "    # Load the data into the table\n",
    "    table_ref = client.dataset(dataset_id).table(table_id)\n",
    "    table = client.get_table(table_ref)\n",
    "\n",
    "    errors = client.insert_rows_json(table, transformed_articles)\n",
    "    if errors:\n",
    "        raise RuntimeError(\"Failed to load data to BigQuery: {}\".format(errors))\n",
    "\n",
    "load_data_to_bigquery(transformed_articles, \"soccer_player\", \"news\")"
   ]
  },
  {
   "cell_type": "code",
   "execution_count": null,
   "metadata": {},
   "outputs": [],
   "source": [
    "\"\"\" from google.api_core.exceptions import NotFound\n",
    "# Step 5: Load the transformed data into the BigQuery table\n",
    "def create_table_if_not_exists(dataset_id, table_id, schema):\n",
    "    dataset_ref = client.dataset(dataset_id)\n",
    "    table_ref = dataset_ref.table(table_id)\n",
    "    try:\n",
    "        client.get_table(table_ref)\n",
    "    except NotFound:\n",
    "        table = bigquery.Table(table_ref, schema=schema)\n",
    "        client.create_table(table) \"\"\""
   ]
  }
 ],
 "metadata": {
  "kernelspec": {
   "display_name": "Python 3",
   "language": "python",
   "name": "python3"
  },
  "language_info": {
   "codemirror_mode": {
    "name": "ipython",
    "version": 3
   },
   "file_extension": ".py",
   "mimetype": "text/x-python",
   "name": "python",
   "nbconvert_exporter": "python",
   "pygments_lexer": "ipython3",
   "version": "3.11.2"
  },
  "orig_nbformat": 4
 },
 "nbformat": 4,
 "nbformat_minor": 2
}
